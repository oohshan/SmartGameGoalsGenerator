{
 "cells": [
  {
   "cell_type": "code",
   "execution_count": 64,
   "metadata": {},
   "outputs": [],
   "source": [
    "import numpy as np"
   ]
  },
  {
   "cell_type": "code",
   "execution_count": 89,
   "metadata": {},
   "outputs": [],
   "source": [
    "import pandas as pd\n",
    "pd.set_option(\"display.max_rows\", None, \"display.max_columns\", None)"
   ]
  },
  {
   "cell_type": "code",
   "execution_count": 90,
   "metadata": {},
   "outputs": [],
   "source": [
    "df = pd.read_csv(\"team_boxscores_v1.csv\")"
   ]
  },
  {
   "cell_type": "code",
   "execution_count": 91,
   "metadata": {},
   "outputs": [],
   "source": [
    "# Kentucky\n",
    "team1 = '2267a1f4-68f6-418b-aaf6-2aa0c4b291f1'"
   ]
  },
  {
   "cell_type": "code",
   "execution_count": 92,
   "metadata": {},
   "outputs": [],
   "source": [
    "# Florida\n",
    "team2 = '912f8837-1d81-4ef9-a576-a21f271d4c64'"
   ]
  },
  {
   "cell_type": "code",
   "execution_count": 93,
   "metadata": {},
   "outputs": [],
   "source": [
    "# Returns all records for a given teamID\n",
    "def getAllTeamMatchRecords(teamID, df):\n",
    "    return df[df[\"team_id\"] == teamID]"
   ]
  },
  {
   "cell_type": "code",
   "execution_count": 94,
   "metadata": {},
   "outputs": [
    {
     "name": "stdout",
     "output_type": "stream",
     "text": [
      "1.74\n"
     ]
    }
   ],
   "source": [
    "# Returns win/loss ratio for a given team across entire dataset\n",
    "# Add functionality for filtering by season?\n",
    "def statWinLoss(teamID, df):\n",
    "    wins = 0\n",
    "    losses = 0\n",
    "    team_stats = df[df[\"team_id\"] == teamID]\n",
    "    for index, row in team_stats.iterrows():\n",
    "        if row[\"points\"] > row[\"points_against\"]:\n",
    "            wins = wins + 1\n",
    "        else:\n",
    "            losses = losses + 1\n",
    "    if losses == 0:\n",
    "        return 1\n",
    "    else:\n",
    "        return wins/losses\n",
    "print(statWinLoss(team2, df))"
   ]
  },
  {
   "cell_type": "code",
   "execution_count": 95,
   "metadata": {},
   "outputs": [],
   "source": [
    "def getGameIDs(teamID, df):\n",
    "    return df[df[\"team_id\"] == teamID][\"game_id\"]"
   ]
  },
  {
   "cell_type": "code",
   "execution_count": 96,
   "metadata": {},
   "outputs": [],
   "source": [
    "# Returns common game IDs between two teams\n",
    "def getMatchupGameIDs(team1, team2, df):\n",
    "    return pd.merge(getGameIDs(team1, df), getGameIDs(team2, df))"
   ]
  },
  {
   "cell_type": "code",
   "execution_count": 98,
   "metadata": {},
   "outputs": [],
   "source": [
    "# Returns average of a given statistic for a given team\n",
    "def getAvgStatForTeam(teamID, statistic, df):\n",
    "    runningSum = 0\n",
    "    runningCount = 0\n",
    "    \n",
    "    team_stats = df[df[\"team_id\"] == teamID]\n",
    "    for index, row in team_stats.iterrows():\n",
    "        runningSum += row[statistic]\n",
    "        runningCount += 1\n",
    "    \n",
    "    return runningSum / runningCount"
   ]
  },
  {
   "cell_type": "code",
   "execution_count": 111,
   "metadata": {},
   "outputs": [
    {
     "name": "stdout",
     "output_type": "stream",
     "text": [
      "11.0 8.666666666666666\n"
     ]
    }
   ],
   "source": [
    "# Gets stats between two teams (UK vs LSU w/ Respect to UK)\n",
    "matchupStats = pd.merge(getMatchupGameIDs(team1, team2, df), getAllTeamMatchRecords(team1, df))\n",
    "\n",
    "# Gets wins and losses between team1 and team2 and returns seperate dataframes\n",
    "def testey(team1, team2, matchupStats):\n",
    "    wins = pd.DataFrame()\n",
    "    losses = pd.DataFrame()\n",
    "    \n",
    "    for index, row in matchupStats.iterrows():\n",
    "        if row[\"points\"] > row[\"points_against\"]:\n",
    "            wins = wins.append(matchupStats.iloc[index])\n",
    "        else:\n",
    "            losses = losses.append(matchupStats.iloc[index])\n",
    "    return wins, losses\n",
    "\n",
    "wins, losses = testey(team1, team2, matchupStats)\n",
    "\n",
    "avgWinAssists = wins[\"assists\"].mean()\n",
    "avgLossAssists = losses[\"assists\"].mean()\n",
    "print(avgWinAssists, avgLossAssists)\n",
    "\n"
   ]
  },
  {
   "cell_type": "code",
   "execution_count": null,
   "metadata": {},
   "outputs": [],
   "source": []
  }
 ],
 "metadata": {
  "kernelspec": {
   "display_name": "Python 3",
   "language": "python",
   "name": "python3"
  },
  "language_info": {
   "codemirror_mode": {
    "name": "ipython",
    "version": 3
   },
   "file_extension": ".py",
   "mimetype": "text/x-python",
   "name": "python",
   "nbconvert_exporter": "python",
   "pygments_lexer": "ipython3",
   "version": "3.8.5"
  }
 },
 "nbformat": 4,
 "nbformat_minor": 4
}
